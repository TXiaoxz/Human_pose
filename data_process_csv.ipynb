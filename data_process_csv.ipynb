{
 "cells": [
  {
   "cell_type": "markdown",
   "id": "ab0b5c57-aaac-4d52-9041-0709131555d8",
   "metadata": {},
   "source": [
    "# Making csv Dataset"
   ]
  },
  {
   "cell_type": "code",
   "execution_count": 2,
   "id": "ed4afea5-26ef-4f22-ac35-cdcc66000230",
   "metadata": {},
   "outputs": [],
   "source": [
    "import numpy as np\n",
    "import scipy.io as sio\n",
    "import pandas as pd\n"
   ]
  },
  {
   "cell_type": "code",
   "execution_count": 5,
   "id": "d9c367c6-d582-4acd-b3fd-5ca9e41245b4",
   "metadata": {},
   "outputs": [
    {
     "name": "stdout",
     "output_type": "stream",
     "text": [
      "[[<scipy.io.matlab._mio5_params.mat_struct object at 0x11f84df90>]] <class 'numpy.ndarray'> (1, 1)\n",
      "['annolist', 'img_train', 'version', 'single_person', 'act', 'video_list']\n",
      "(1, 24987) (1, 24987) (24987, 1)\n",
      "['NAME', 'r ankle_X', 'r ankle_Y', 'r knee_X', 'r knee_Y', 'r hip_X', 'r hip_Y', 'l hip_X', 'l hip_Y', 'l knee_X', 'l knee_Y', 'l ankle_X', 'l ankle_Y', 'pelvis_X', 'pelvis_Y', 'thorax_X', 'thorax_Y', 'upper neck_X', 'upper neck_Y', 'head top_X', 'head top_Y', 'r wrist_X', 'r wrist_Y', 'r elbow_X', 'r elbow_Y', 'r shoulder_X', 'r shoulder_Y', 'l shoulder_X', 'l shoulder_Y', 'l elbow_X', 'l elbow_Y', 'l wrist_X', 'l wrist_Y', 'Scale', 'Activity', 'Category']\n"
     ]
    }
   ],
   "source": [
    "mat = sio.loadmat('MPII/annotations/mpii_human_pose_v1_u12_1.mat', struct_as_record=False)\n",
    "rel = mat['RELEASE']\n",
    "print(rel,type(rel),rel.shape)\n",
    "obj_rel = rel[0,0]\n",
    "print(obj_rel._fieldnames)\n",
    "annolist = obj_rel.__dict__['annolist']\n",
    "img_tra = obj_rel.__dict__['img_train']\n",
    "act = obj_rel.__dict__['act']\n",
    "print(annolist.shape,img_tra.shape,act.shape)\n",
    "n = annolist.shape[1]\n",
    "data_arr = ['NAME','r ankle_X','r ankle_Y', 'r knee_X','r knee_Y', 'r hip_X','r hip_Y', 'l hip_X','l hip_Y', 'l knee_X','l knee_Y', 'l ankle_X','l ankle_Y','pelvis_X','pelvis_Y','thorax_X','thorax_Y','upper neck_X','upper neck_Y', 'head top_X','head top_Y', 'r wrist_X','r wrist_Y','r elbow_X','r elbow_Y', 'r shoulder_X','r shoulder_Y','l shoulder_X','l shoulder_Y','l elbow_X','l elbow_Y', 'l wrist_X','l wrist_Y','Scale','Activity','Category']\n",
    "print(data_arr)\n",
    "data = pd.DataFrame(columns=data_arr)"
   ]
  },
  {
   "cell_type": "code",
   "execution_count": null,
   "id": "02e6f6b1-9999-4326-a936-f5055af88bc9",
   "metadata": {},
   "outputs": [],
   "source": []
  }
 ],
 "metadata": {
  "kernelspec": {
   "display_name": "Python 3 (ipykernel)",
   "language": "python",
   "name": "python3"
  },
  "language_info": {
   "codemirror_mode": {
    "name": "ipython",
    "version": 3
   },
   "file_extension": ".py",
   "mimetype": "text/x-python",
   "name": "python",
   "nbconvert_exporter": "python",
   "pygments_lexer": "ipython3",
   "version": "3.11.0"
  }
 },
 "nbformat": 4,
 "nbformat_minor": 5
}
